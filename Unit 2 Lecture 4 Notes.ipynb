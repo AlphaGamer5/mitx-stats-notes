{
 "cells": [
  {
   "cell_type": "markdown",
   "metadata": {},
   "source": [
    "# Fundamentals of Statistics Unit 2 Lecture 4 Notes (unfinished)"
   ]
  },
  {
   "cell_type": "code",
   "execution_count": 15,
   "metadata": {},
   "outputs": [],
   "source": [
    "import numpy as np\n",
    "import random\n",
    "import pandas as pd\n",
    "import matplotlib.pyplot as plt\n",
    "import seaborn as sns\n",
    "import warnings\n",
    "warnings.filterwarnings('ignore')"
   ]
  },
  {
   "cell_type": "markdown",
   "metadata": {},
   "source": [
    "## Table of Contents\n",
    "- <a href=#p1>Parameter Estimation Definitions</a>\n",
    "- <a href=#p2>Bias of an Estimator</a>\n",
    "- <a href=#p3>Jensen's Inequality</a>\n",
    "- <a href=#p4>Variance of an Estimator</a>\n",
    "- <a href=#p5>Quadratic Risk</a>\n",
    "- <a href=#p6>Confidence Intervals</a>\n",
    "\n",
    "<a href=\"https://nbviewer.jupyter.org/github/TraceMyers/mitx-stats-notes/blob/master/Unit%202%20Lecture%204%20Notes.ipynb#P2\"> Click here to render this page with nbviewer.jupyter.org and use bookmarks. </a>"
   ]
  },
  {
   "cell_type": "markdown",
   "metadata": {},
   "source": [
    "# Parameter Estimation Definitions <a name='p1' />\n",
    "\n",
    "\n",
    "### Statistic \n",
    "\n",
    "Any measurable function of the sample, e.g. $\\bar{X}_n$, $max_i X_i, X_1 + log(1 + |X_n|)$, $s^2$ (sample variance), ...\n",
    "\n",
    "<i>\"If you can compute it once I give you data, it is measurable.\"</i>\n",
    "\n",
    "### Estimator of $\\theta$\n",
    "\n",
    "Any statistic whose expression does not depend on $\\theta$.\n",
    "\n",
    "### An estimator $\\hat{\\theta}_n$ of $\\theta$ is weakly (resp. strongly) consistent if\n",
    "\n",
    "$\\hat{\\theta}_n \\xrightarrow[n \\to \\infty]{\\mathbb{P}(resp. a.s.)} \\theta$ $(w.r.t. \\mathbb{P})$\n",
    "\n",
    "- Note: resp. here shows the relationships <i>weakly is to $\\mathbb{P}$</i> as <i>strongly is to a.s.</i>\n",
    "\n",
    "### An estimator $\\hat{\\theta}_n$ of $\\theta$ is asymptotically normal if\n",
    "\n",
    "$\\sqrt{n}(\\hat{\\theta}_n - \\theta) \\xrightarrow[n \\to \\infty]{(d)} \\mathcal{N}(0, \\sigma^2)$\n",
    "\n",
    "- The quantity $\\sigma^2$ is then called asymptotic variance of $\\hat{\\theta}_n$.\n",
    "\n",
    "<i>asymptotic variance</i> as defined here is distinct from, and necessarily follows from:\n",
    "\n",
    "$var(\\hat{\\theta}_n)\\xrightarrow[n \\to \\infty]{} 0$\n",
    "\n",
    "- <i>graphic example in 'Unit 1 Notes', 'Law of Large Numbers / Convergence'</i>"
   ]
  },
  {
   "cell_type": "markdown",
   "metadata": {},
   "source": [
    "# Bias of an Estimator <a name='p2' />\n",
    "\n",
    "Bias of an estimator $\\hat{\\theta}_n$ of $\\theta$:\n",
    "   \n",
    "$bias(\\hat{\\theta}_n) = E[\\hat{\\theta}_n] - \\theta$\n",
    "\n",
    "- if an estimator has bias 0, it's unbiased\n",
    "\n",
    "Examples ($X_1, ..., X_n \\overset{iid}{\\sim} Ber(p)$):\n",
    "\n",
    "- $\\hat{p}_n = \\bar{X}_n$: $bias(\\hat{p}_n) = 0$\n",
    "- $\\hat{p}_n = X_1$: $bias(\\hat{p}_n) = 0$\n",
    "- $\\hat{p}_n = \\frac{X_1 + X_2}{2}$: $bias(\\hat{p}_n) = 0$\n",
    "- $\\hat{p}_n = \\sqrt{\\mathcal{I}(X_1 = 1, X_2 = 1)} = \\sqrt{Ber(p^2)} = Ber(p^2)$: $bias(\\hat{p}_n) = p^2 - p$\n",
    "\n",
    "Unbiased $\\neq$ best! The words are related in english, but the ideas are only loosely related here. The definition is exactly as stated.\n"
   ]
  },
  {
   "cell_type": "code",
   "execution_count": 31,
   "metadata": {},
   "outputs": [
    {
     "name": "stdout",
     "output_type": "stream",
     "text": [
      "Estimating theta = 0.5\n",
      "----------------------\n",
      "Estimator [sample mean]   with bias 0                   : 0.6\n",
      "Estimator [X1]            with bias 0                   : 1\n",
      "Estimator [(X1 + X2) / 2] with bias 0                   : 1.0\n",
      "Estimator [sqrt(X1 == 1 & X2 == 1)] with bias -0.25     : 1.0\n"
     ]
    }
   ],
   "source": [
    "p = 0.5\n",
    "n = 10\n",
    "# generates the sum of n bernoullis w.p. p\n",
    "Xsum = np.random.binomial(n, p)\n",
    "\n",
    "est1 = Xsum / n\n",
    "# if Xsum = 6, est1 = 0.6, X1 == 1 and X2 == 1 each with probability 0.6\n",
    "X1, X2 = 1 if random.random() <= est1 else 0, 1 if random.random() <= est1 else 0\n",
    "est2 = X1\n",
    "est3 = (X1 + X2) / 2\n",
    "est4 = np.sqrt(X1 == 1 and X2 == 1)\n",
    "\n",
    "print('Estimating theta = 0.5')\n",
    "print('----------------------')\n",
    "print(f'Estimator [sample mean]   with bias 0                   : {round(est1, 2)}')\n",
    "print(f'Estimator [X1]            with bias 0                   : {round(est2, 2)}')\n",
    "print(f'Estimator [(X1 + X2) / 2] with bias 0                   : {round(est3, 2)}')\n",
    "print(f'Estimator [sqrt(X1 == 1 & X2 == 1)] with bias {p**2 - p}     : {round(est4, 2)}')"
   ]
  },
  {
   "cell_type": "markdown",
   "metadata": {},
   "source": [
    "# Jensen's inequality <a name='p3' />\n",
    "\n",
    "A function $g: \\mathbb{R} \\to \\mathbb{R}$ is convex if for all pairs\n",
    "\n",
    "$g(tx_1 + (1 - t)x_2) \\leq tg(x_1) + (1 - t)g(x_2)$ for all $0 \\leq t \\leq 1$\n",
    "\n",
    "Geometrically, this means for all $x_1 \\leq x \\leq x_2$, the secant line connecting $(x_1, g(x_1))$ and $(x_2, g(x_2))$ is above, or dominates the graph of g on the domain between the x values."
   ]
  },
  {
   "cell_type": "code",
   "execution_count": 88,
   "metadata": {},
   "outputs": [
    {
     "data": {
      "image/png": "[encoded data removed]",
      "text/plain": [
       "<Figure size 720x288 with 2 Axes>"
      ]
     },
     "metadata": {
      "needs_background": "light"
     },
     "output_type": "display_data"
    },
    {
     "name": "stdout",
     "output_type": "stream",
     "text": [
      "To understand how this idea affects an rv X ~ Ber(p)...\n",
      " The secant line connects (E[X],g(E[X])) and ((1-E[X]), g(1-E[X])).\n",
      "The blue dot is (E[X], g(E[X]))\n",
      "The orange dot is (E[X], E[g(X)]) -- E[g(X)] is x2*g(x2) + x1*g(x1)\n",
      "The x coordinate of the orange dot is arbitrary, but if it were moved over to the right,\n",
      " you can see it corresponds to a y-value on the secant line.\n"
     ]
    }
   ],
   "source": [
    "def g(x):\n",
    "    return x**2\n",
    "x = np.linspace(0, 1, 50)\n",
    "gvect = np.vectorize(g)\n",
    "y = gvect(x)\n",
    "\n",
    "plt.figure(figsize=(10,4))\n",
    "plt.subplot(1, 2, 1)\n",
    "plt.title('convex function f(x) = x^2 and secant lines', fontsize=14)\n",
    "plt.plot(x, y)\n",
    "plt.plot([0.15, 0.85], gvect([0.15, 0.85]))\n",
    "plt.plot([0.1, 0.9], gvect([0.1, 0.9]))\n",
    "plt.plot([0.35, 0.65], gvect([0.35, 0.65]))\n",
    "\n",
    "plt.subplot(1, 2, 2)\n",
    "plt.title('Jensen & Bernoulli (read below)')\n",
    "plt.plot(x, y)\n",
    "plt.plot([0.15, 0.85], gvect([0.15, 0.85]))\n",
    "plt.plot(0.15, g(0.15), 'o', c='b')\n",
    "plt.plot(0.15, 0.15 * g(0.15) + 0.85 * g(0.85), 'o', c='orange')\n",
    "plt.show()\n",
    "\n",
    "print('To understand how this idea affects an rv X ~ Ber(p)...\\n The secant line connects (E[X],g(E[X])) and ((1-E[X]), g(1-E[X])).')\n",
    "print('The blue dot is (E[X], g(E[X]))')\n",
    "print('The orange dot is (E[X], E[g(X)]) -- E[g(X)] is x2*g(x2) + x1*g(x1)')\n",
    "print('The x coordinate of the orange dot is arbitrary, but if it were moved over to the right,\\n you can see it corresponds to a y-value on the secant line.')\n"
   ]
  },
  {
   "cell_type": "markdown",
   "metadata": {},
   "source": [
    "If $x_1 = 0$ and $x_2 = 1$, the inequality can be interpeted as follows. Let $X \\sim Ber(t)$, $0 \\leq t \\leq 1$, then the right and left hand sides of the inequality can be rewritten respectively as:\n",
    "\n",
    "- $g(t(0) + (1 - t)(1)) = g(1 - t) = g(E[X])$\n",
    "\n",
    "- $tg(x_1) + (1 - t)(x_2) = E[g(X)]$\n",
    "\n",
    "Which implies\n",
    "\n",
    "- $g(E[X]) \\leq E[g(X)]$ for any Bernoulli and convex g\n",
    "\n",
    "#### This is true for all random variables, and the reverse can be said when g is concave.\n",
    "\n",
    "- <b>Visual/Memory aid:</b> On the graph above the x values of the secant lines were chosen to correspond to possible Bernoulli $p$ and $1 - p$. $g(E[X])$ is always somewhere on the graph of $g$, and $E[g(x)]$ is always somewhere on the secant line dominating g."
   ]
  },
  {
   "cell_type": "markdown",
   "metadata": {},
   "source": [
    "# Variance of an Estimator <a name='p4' />\n",
    "\n",
    "- $var(X) = E[X^2] - (E[X])^2$\n",
    "\n",
    "Estimators are R.V.s, so their variance can be calculated.\n",
    "\n",
    "Example: remember that $var(aX) = a^2 var(X)$, so...\n",
    "\n",
    "- $var(\\bar{X}_n) = var(\\frac{X_1 + ... + X_n}{n}) = \\frac{1}{n^2} * var(X_1 + ... + X_n) = \\frac{n var(X)}{n^2} = \\frac{var(X)}{n}$\n",
    "\n",
    "Other examples $(X \\sim Ber(p))$:\n",
    "- $var(X_1) = p(1-p)$\n",
    "- $var(\\bar{X}_n) = \\frac{p(1-p)}{n}$\n",
    "- $var(\\frac{X_1 - X_2}{2}) = \\frac{p(1-p)}{2}$\n",
    "- $var(\\sqrt{X_1 = 1, X_2 = 1}) = var(Ber(p^2)) = p^2(1-p^2)$"
   ]
  },
  {
   "cell_type": "markdown",
   "metadata": {},
   "source": [
    "# Quadratic Risk <a name='p5' />\n",
    "\n",
    "$R(\\hat{\\theta}_n) = E[(\\hat{\\theta}_n - \\theta)^2]$\n",
    "\n",
    "is known as <i>quadratic risk</i> in classical statistics and <i>mean squared error</i> in bayesian statistics.\n",
    "\n",
    "- low quadratic risk means that both bias and variance are small.\n",
    "\n",
    "Take the formula, add and subtract $E[\\hat{\\theta}_n]$ inside the expectation, since the two terms cancel out and it remains the same, then expand the square.\n",
    "\n",
    "$E[(\\hat{\\theta}_n - E[\\hat{\\theta}_n] + E[\\hat{\\theta}_n] - \\theta)^2]$\n",
    "\n",
    "$= E[(\\hat{\\theta}_n - E[\\hat{\\theta}_n])^2] \\quad + \\quad E[(E[\\hat{\\theta}_n] - \\theta)^2] \\quad + \\quad 2E[(\\hat{\\theta}_n - E[\\hat{\\theta}_n])(E[\\hat{\\theta}_n] - \\theta)]$\n",
    "\n",
    "... where\n",
    "\n",
    "$E[(\\hat{\\theta}_n - E[\\hat{\\theta}_n])^2]$ is the variance of $\\hat{\\theta}_n$\n",
    "\n",
    "$E[(E[\\hat{\\theta}_n] - \\theta)^2]$  is the $bias^2$ of $\\hat{\\theta}_n$\n",
    "\n",
    "and\n",
    "\n",
    "$(\\hat{\\theta}_n - E[\\hat{\\theta}_n]) = 0 \\rightarrow 2E[(\\hat{\\theta}_n - E[\\hat{\\theta}_n])(E[\\hat{\\theta}_n] - \\theta)] = 0$\n",
    "\n",
    "so, <b>quadratic risk</b> = $variance$ + $bias^2$"
   ]
  },
  {
   "cell_type": "markdown",
   "metadata": {},
   "source": [
    "# Confidence Intervals <a name='p6' />\n",
    "\n",
    "Let $(E, (\\mathbb{P}_\\theta)_{\\theta \\in \\Theta})$ be a statistical model based on observations $X_1, ..., X_n$, and assume $\\Theta \\in \\mathbb{R}$. Let $\\alpha \\in (0, 1)$.\n",
    "\n",
    "- <b>Confidence Interval of level $1 - \\alpha$</b> for $\\theta$: Any random (depending on $X_1, ..., X_n$) interval $\\mathcal{I}$ whose boundaries do not depend on $\\theta$ and such that:\n",
    "\n",
    "$\\mathbb{P}[\\mathcal{I} \\ni \\theta] \\geq 1 - \\alpha, \\quad \\forall \\theta \\in \\Theta$\n",
    "\n",
    "- <b>Confidence Interval of asymptotic level $1 - \\alpha$</b> for $\\theta$: Any random interval $\\mathcal{I}$ whose boundaries do not depend on $\\theta$ and such that:\n",
    "    \n",
    "$\\lim_{n \\to \\infty} \\mathbb{P}[\\mathcal{I} \\ni \\theta] \\geq 1 - \\alpha, \\quad \\forall \\theta \\in \\Theta$\n",
    "\n",
    "- Note: $\\mathcal{I} \\ni \\theta$ is the same as saying $\\theta \\in \\mathcal{I}$, but the reversal is used here to emphasize the randomness of $\\mathcal{I}$. Rather than 'theta in the CI', it's 'CI contains theta'.\n",
    "\n",
    "- <i>for a code sim / graphic representation of CI and confidence level, showing how alpha is at first set, then manifests through iterations of estimation, see 'Unit 2 Lecture 3 Notes', 'Trinity of Statistical Inference'.</i>"
   ]
  },
  {
   "cell_type": "code",
   "execution_count": null,
   "metadata": {},
   "outputs": [],
   "source": []
  },
  {
   "cell_type": "code",
   "execution_count": null,
   "metadata": {},
   "outputs": [],
   "source": []
  },
  {
   "cell_type": "code",
   "execution_count": null,
   "metadata": {},
   "outputs": [],
   "source": []
  },
  {
   "cell_type": "code",
   "execution_count": null,
   "metadata": {},
   "outputs": [],
   "source": []
  },
  {
   "cell_type": "code",
   "execution_count": null,
   "metadata": {},
   "outputs": [],
   "source": []
  },
  {
   "cell_type": "code",
   "execution_count": null,
   "metadata": {},
   "outputs": [],
   "source": []
  }
 ],
 "metadata": {
  "kernelspec": {
   "display_name": "Python 3",
   "language": "python",
   "name": "python3"
  },
  "language_info": {
   "codemirror_mode": {
    "name": "ipython",
    "version": 3
   },
   "file_extension": ".py",
   "mimetype": "text/x-python",
   "name": "python",
   "nbconvert_exporter": "python",
   "pygments_lexer": "ipython3",
   "version": "3.7.0"
  }
 },
 "nbformat": 4,
 "nbformat_minor": 2
}
