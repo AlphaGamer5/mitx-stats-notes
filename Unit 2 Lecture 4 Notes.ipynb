{
 "cells": [
  {
   "cell_type": "markdown",
   "metadata": {},
   "source": [
    "# Fundamentals of Statistics Unit 2 Lecture 4 Notes (unfinished)"
   ]
  },
  {
   "cell_type": "code",
   "execution_count": 15,
   "metadata": {},
   "outputs": [],
   "source": [
    "import numpy as np\n",
    "import random\n",
    "import pandas as pd\n",
    "import matplotlib.pyplot as plt\n",
    "import seaborn as sns\n",
    "import warnings\n",
    "warnings.filterwarnings('ignore')"
   ]
  },
  {
   "cell_type": "markdown",
   "metadata": {},
   "source": [
    "## Table of Contents\n",
    "- <a href=#p1>Parameter Estimation Definitions</a>\n",
    "- <a href=#p2>Bias of an Estimator</a>\n",
    "\n",
    "<a href=\"https://nbviewer.jupyter.org/github/TraceMyers/mitx-stats-notes/blob/master/Unit%202%20Lecture%204%20Notes.ipynb#P2\"> Click here to render this repository through nbviewer.jupyter.org and use bookmarks. </a>"
   ]
  },
  {
   "cell_type": "markdown",
   "metadata": {},
   "source": [
    "# Parameter Estimation Definitions <a name='p1' />\n",
    "\n",
    "\n",
    "### Statistic \n",
    "\n",
    "Any measurable function of the sample, e.g. $\\bar{X}_n$, $max_i X_i, X_1 + log(1 + |X_n|)$, $s^2$ (sample variance), ...\n",
    "\n",
    "<i>\"If you can compute it once I give you data, it is measurable.\"</i>\n",
    "\n",
    "### Estimator of $\\theta$\n",
    "\n",
    "Any statistic whose expression does not depend on $\\theta$.\n",
    "\n",
    "### An estimator $\\hat{\\theta}_n$ of $\\theta$ is weakly (resp. strongly) consistent if\n",
    "\n",
    "$\\hat{\\theta}_n \\xrightarrow[n \\to \\infty]{\\mathbb{P}(resp. a.s.)} \\theta$ $(w.r.t. \\mathbb{P})$\n",
    "\n",
    "- Note: resp. here shows the relationships <i>weakly is to $\\mathbb{P}$</i> as <i>strongly is to a.s.</i>\n",
    "\n",
    "### An estimator $\\hat{\\theta}_n$ of $\\theta$ is asymptotically normal if\n",
    "\n",
    "$\\sqrt{n}(\\hat{\\theta}_n - \\theta) \\xrightarrow[n \\to \\infty]{(d)} \\mathcal{N}(0, \\sigma^2)$\n",
    "\n",
    "- The quantity $\\sigma^2$ is then called asymptotic variance of $\\hat{\\theta}_n$.\n",
    "\n",
    "<i>asymptotic variance</i> as defined here is distinct from, and necessarily follows from:\n",
    "\n",
    "$var(\\hat{\\theta}_n)\\xrightarrow[n \\to \\infty]{} 0$\n",
    "\n",
    "- <i>graphic example in 'Unit 1 Notes', 'Law of Large Numbers / Convergence'</i>"
   ]
  },
  {
   "cell_type": "markdown",
   "metadata": {},
   "source": [
    "# Bias of an Estimator <a name='p2' />\n",
    "\n",
    "Bias of an estimator $\\hat{\\theta}_n$ of $\\theta$:\n",
    "   \n",
    "$bias(\\hat{\\theta}_n) = E[\\hat{\\theta}_n] - \\theta$\n",
    "\n",
    "- if 0, unbiased\n",
    "\n",
    "Examples ($X_1, ..., X_n \\overset{iid}{\\sim} Ber(p)$):\n",
    "\n",
    "- $\\hat{p}_n = \\bar{X}_n$: $bias(\\hat{p}_n) = 0$\n",
    "- $\\hat{p}_n = X_1$: $bias(\\hat{p}_n) = 0$\n",
    "- $\\hat{p}_n = \\frac{X_1 + X_2}{2}$: $bias(\\hat{p}_n) = 0$\n",
    "- $\\hat{p}_n = \\sqrt{\\mathcal{I}(X_1 = 1, X_2 = 1)} = \\sqrt{Ber(p^2)} = Ber(p^2)$: $bias(\\hat{p}_n) = p^2 - p$"
   ]
  },
  {
   "cell_type": "code",
   "execution_count": 31,
   "metadata": {},
   "outputs": [
    {
     "name": "stdout",
     "output_type": "stream",
     "text": [
      "Estimating theta = 0.5\n",
      "----------------------\n",
      "Estimator [sample mean]   with bias 0                   : 0.6\n",
      "Estimator [X1]            with bias 0                   : 1\n",
      "Estimator [(X1 + X2) / 2] with bias 0                   : 1.0\n",
      "Estimator [sqrt(X1 == 1 & X2 == 1)] with bias -0.25     : 1.0\n"
     ]
    }
   ],
   "source": [
    "p = 0.5\n",
    "n = 10\n",
    "# generates the sum of n bernoullis w.p. p\n",
    "Xsum = np.random.binomial(n, p)\n",
    "\n",
    "est1 = Xsum / n\n",
    "# if Xsum = 6, est1 = 0.6, X1 == 1 and X2 == 1 each with probability 0.6\n",
    "X1, X2 = 1 if random.random() <= est1 else 0, 1 if random.random() <= est1 else 0\n",
    "est2 = X1\n",
    "est3 = (X1 + X2) / 2\n",
    "est4 = np.sqrt(X1 == 1 and X2 == 1)\n",
    "\n",
    "print('Estimating theta = 0.5')\n",
    "print('----------------------')\n",
    "print(f'Estimator [sample mean]   with bias 0                   : {round(est1, 2)}')\n",
    "print(f'Estimator [X1]            with bias 0                   : {round(est2, 2)}')\n",
    "print(f'Estimator [(X1 + X2) / 2] with bias 0                   : {round(est3, 2)}')\n",
    "print(f'Estimator [sqrt(X1 == 1 & X2 == 1)] with bias {p**2 - p}     : {round(est4, 2)}')"
   ]
  },
  {
   "cell_type": "code",
   "execution_count": null,
   "metadata": {},
   "outputs": [],
   "source": []
  },
  {
   "cell_type": "code",
   "execution_count": null,
   "metadata": {},
   "outputs": [],
   "source": []
  },
  {
   "cell_type": "code",
   "execution_count": null,
   "metadata": {},
   "outputs": [],
   "source": []
  },
  {
   "cell_type": "code",
   "execution_count": null,
   "metadata": {},
   "outputs": [],
   "source": []
  },
  {
   "cell_type": "code",
   "execution_count": null,
   "metadata": {},
   "outputs": [],
   "source": []
  },
  {
   "cell_type": "code",
   "execution_count": null,
   "metadata": {},
   "outputs": [],
   "source": []
  },
  {
   "cell_type": "code",
   "execution_count": null,
   "metadata": {},
   "outputs": [],
   "source": []
  },
  {
   "cell_type": "code",
   "execution_count": null,
   "metadata": {},
   "outputs": [],
   "source": []
  }
 ],
 "metadata": {
  "kernelspec": {
   "display_name": "Python 3",
   "language": "python",
   "name": "python3"
  },
  "language_info": {
   "codemirror_mode": {
    "name": "ipython",
    "version": 3
   },
   "file_extension": ".py",
   "mimetype": "text/x-python",
   "name": "python",
   "nbconvert_exporter": "python",
   "pygments_lexer": "ipython3",
   "version": "3.7.0"
  }
 },
 "nbformat": 4,
 "nbformat_minor": 2
}
