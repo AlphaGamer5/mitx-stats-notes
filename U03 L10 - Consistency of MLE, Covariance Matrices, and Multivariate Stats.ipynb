{
 "cells": [
  {
   "cell_type": "markdown",
   "metadata": {},
   "source": [
    "# Unit 3 Lecture 10 - Constistency of MLE, Covariance Matrices, and Multivariate Statistics"
   ]
  },
  {
   "cell_type": "code",
   "execution_count": 3,
   "metadata": {},
   "outputs": [],
   "source": [
    "import numpy as np\n",
    "import random\n",
    "import matplotlib.pyplot as plt\n",
    "import seaborn as sns\n",
    "import warnings\n",
    "warnings.filterwarnings('ignore')"
   ]
  },
  {
   "cell_type": "markdown",
   "metadata": {},
   "source": [
    "## Log-Likelihood = 0 doesn't always give MLE\n",
    "\n",
    "Sometimes the maximum of a function isn't found with the derivative. In those cases, you have to employ other methods to find the MLE. There isn't necessarily one prescription for this process. Example:\n",
    "\n",
    "$X_1, \\cdots, X_n \\sim Unif[0, \\theta]$\n",
    "\n",
    "$L_n(\\theta | X_1, \\cdots, X_n) = \\prod_n f_X(x|\\theta) = \\dfrac{1}{\\theta^n}$\n",
    "\n",
    "This function finds its argmax in $max(X_i)$, where the likelihood function isn't continuous, and the derivative isn't zero.\n",
    "\n",
    "- (Scripted Example 1)"
   ]
  },
  {
   "cell_type": "markdown",
   "metadata": {},
   "source": [
    "## Consistency of MLE\n",
    "\n",
    "Under mild regularity conditions (continuity in $\\theta$ of the pdf $p_{\\theta}$ almost everywhere),\n",
    "\n",
    "$\\hat{\\theta_n}^{MLE} \\xrightarrow[n \\to \\infty]{P} \\theta$\n",
    "\n",
    "which holds true in the multivariate case, meaning when $\\theta$ is a vector of parameters."
   ]
  },
  {
   "cell_type": "markdown",
   "metadata": {},
   "source": [
    "## Random Vector\n",
    "\n",
    "$X = \\begin{pmatrix}\n",
    "X^{(1)} \\\\\n",
    "\\vdots \\\\\n",
    "X^{(d)}\n",
    "\\end{pmatrix}$\n",
    "\n",
    "is a $d$ x $1$ random vector, or a random vector $\\in \\mathbb{R}^d$, where each $X^{(k)}$ is an RV. \n",
    "\n",
    "- The pdf of $X$ is the joint pdf of the elements\n",
    "- The cdf of $X$ is $P(X^{(1)} \\leq x^{(1)}, \\cdots, X^{(d)} \\leq x^{(d)})$ (similar to pdf of max, but $x$ is a vector)\n",
    "- $X$ converges in probability when all $X^{(k)}$ individually converge in probability.  If $X$ = $\\hat{\\theta}_n$, a vector of estimators, all $X^{(k)}$ must be consistent estimators for $\\hat{\\theta}_n$ to be consistent.\n",
    "\n",
    "e.g.\n",
    "\n",
    "$X \\sim \\mathcal{N}(\\mu, \\sigma^2)$\n",
    "\n",
    "$\\hat{\\theta}_n = \\begin{pmatrix}\n",
    "\\bar{X}_n \\\\\n",
    "\\dfrac{\\sum_n(X_i - \\bar{X}_n)^2}{n}\n",
    "\\end{pmatrix}$\n",
    "\n",
    "converges in probability to\n",
    "\n",
    "$\\theta = \\begin{pmatrix}\n",
    "\\mu \\\\\n",
    "\\sigma^2 \n",
    "\\end{pmatrix}$\n",
    "\n",
    "- A random vector has a gaussian distribution iff all linear combinations of its elements are of that distribution. This isn't always the case."
   ]
  },
  {
   "cell_type": "markdown",
   "metadata": {},
   "source": [
    "## Covariance\n",
    "\n",
    "- $Cov(X, Y) = E[(X - E[X])(Y - E[Y])]$\n",
    "- $= E[(X)(Y - E[Y])]$\n",
    "- $= E[(X - E[X])(Y)]$\n",
    "- $= E[XY] - E[X]E[Y]$\n",
    "- $Cov(X, X) = Var(X)$"
   ]
  },
  {
   "cell_type": "markdown",
   "metadata": {},
   "source": [
    "### Covariance & Independence\n",
    "\n",
    "- $X, Y$ are independent $\\Rightarrow Cov(X, Y) = 0$\n",
    "- $Cov(X, Y) = 0 \\nRightarrow X, Y$ are independent"
   ]
  },
  {
   "cell_type": "markdown",
   "metadata": {},
   "source": [
    "### Covariance Matrix\n",
    "\n",
    "Covariance matrix $\\Sigma$ is the total representation of covariance between all of the elements of a random vector. It has the variances on the main diagonal and covariances symmetrically above and below.\n",
    "\n",
    "- $\\Sigma_{i, j} = Cov(X^{(i)}, X^{(j)})$\n",
    "\n",
    "e.g.\n",
    "\n",
    "$ M = \\begin{pmatrix}\n",
    "X \\\\\n",
    "Y \\\\\n",
    "Z\n",
    "\\end{pmatrix}$\n",
    "\n",
    "$\\Sigma_M = E[(M - E[M])(M - E[M])^T]$\n",
    "\n",
    "$= E\\begin{pmatrix}\\begin{pmatrix}\n",
    "X - E[X] \\\\\n",
    "Y - E[Y] \\\\\n",
    "Z - E[Z] \n",
    "\\end{pmatrix}\n",
    "\\begin{pmatrix}\n",
    "X - E[X] & Y - E[Y] & Z - E[Z] \n",
    "\\end{pmatrix}\\end{pmatrix}$\n",
    "\n",
    "$= \\begin{pmatrix}\n",
    "Cov(X, X) & Cov(X, Y) & Cov(X, Z) \\\\\n",
    "Cov(Y, X) & Cov(Y, Y) & Cov(Y, Z) \\\\\n",
    "Cov(Z, X) & Cov(Z, Y) & Cov(Z, Z)\n",
    "\\end{pmatrix}$\n"
   ]
  },
  {
   "cell_type": "markdown",
   "metadata": {},
   "source": [
    "### Affine Transformation of a Covariance Matrix\n",
    "\n",
    "Univariate case\n",
    "\n",
    "$Var(aX + b) = a^2 Var(X)$\n",
    "\n",
    "The multivariate case is similar, but matrices don't have the distributive property, so...\n",
    "\n",
    "- $Var(AX + B) = A \\Sigma_X A^T$"
   ]
  },
  {
   "cell_type": "markdown",
   "metadata": {},
   "source": [
    "## Multivariate CLT\n",
    "\n",
    "- $\\sqrt{n}(\\bar{X}_n - \\mu) \\to \\mathcal{N}(0, \\Sigma)$\n",
    "\n",
    "Where $\\bar{X}_n$ is the average of a set of iid copies $\\{X_1, \\cdots, X_n\\}$ of random vector $X$ with $E[X] = \\mu$ and $Var(X) = \\Sigma$, which, put another way, makes $\\bar{X}_n$ a vector of averages. Each $\\bar{X_n}^{(k)}$ represents the mean of the elements of $X_k$.\n",
    "\n",
    "$X_k = \\begin{pmatrix}\n",
    "X^{(1)}_k \\\\\n",
    "\\vdots \\\\\n",
    "X^{(d)}_k\n",
    "\\end{pmatrix}$\n",
    "\n",
    "$\\bar{X}_n = \\begin{pmatrix}\n",
    "\\bar{X_n}^{(1)} \\\\\n",
    "\\vdots \\\\\n",
    "\\bar{X_n}^{(d)}\n",
    "\\end{pmatrix}$\n",
    "\n",
    "and \n",
    "\n",
    "- $\\sqrt{n} (\\Sigma^{-1/2}) (\\bar{X}_n - \\mu) \\to \\mathcal{N}(0, I_d)$\n",
    "\n",
    "Where $\\Sigma^{1/2}$ is the square root of $\\Sigma$, and it's the matrix s.t. $\\Sigma^{-1/2} \\Sigma^{-1/2} = \\Sigma^{-1}$. \n",
    "\n",
    "This tranformation corresponds to the single variable version\n",
    "\n",
    "$\\sqrt{n}(\\sigma^{-1})(\\bar{X}_n - \\mu) \\to \\mathcal{N}(0, 1)$"
   ]
  },
  {
   "cell_type": "markdown",
   "metadata": {},
   "source": [
    "## Multivariate Delta Method\n",
    "\n",
    "Univariate with some RV $X$ with variance $\\sigma^2$ and parameter $\\theta$. If $\\hat{\\theta}_n$ is consistent,\n",
    "\n",
    "$\\sqrt{n}(\\hat{\\theta}_n - \\theta) \\to \\mathcal{N}(0, \\sigma^2)$\n",
    "\n",
    "$\\sqrt{n}(g(\\hat{\\theta}_n) - g(\\theta)) \\to \\mathcal{N}(0, g\\prime(E[X])^2\\sigma^2)$\n",
    "\n",
    "So, multivariate\n",
    "\n",
    "- $\\sqrt{n}(\\hat{\\theta}_n - \\theta) \\to \\mathcal{N}(0, \\Sigma)$\n",
    "\n",
    "- $\\sqrt{n}(g(\\hat{\\theta}_n) - g(\\theta)) \\to \\mathcal{N}(0, \\nabla g(\\theta)^T\\Sigma \\nabla g(\\theta))$\n",
    "\n",
    "Where $\\nabla g$ is the vector of first derivatives of $g$\n",
    "\n",
    "- NOTE: for the homework, pay very close attention to the variability of the language for this sort of problem. Here, we're talking about $g(\\hat{\\theta})$, where $g$ makes the transformation. But, think about what it means for $\\hat{\\theta}$ to instead be the transforming function $g$ of some estimator. You would rewrite the above above convergence formula to $g($estimator$)$... instead of $g(\\hat{\\theta})$. What are you then taking the derivative wrt? Also very important, what are we converging to, and what does that make $X$ in the above formula?"
   ]
  },
  {
   "cell_type": "markdown",
   "metadata": {},
   "source": [
    "## Scripted Examples"
   ]
  },
  {
   "cell_type": "markdown",
   "metadata": {},
   "source": [
    "### 1. Can't Always Find MLE with Derivative"
   ]
  },
  {
   "cell_type": "code",
   "execution_count": 52,
   "metadata": {},
   "outputs": [
    {
     "data": {
      "image/png": "[encoded data removed]",
      "text/plain": [
       "<Figure size 432x288 with 1 Axes>"
      ]
     },
     "metadata": {
      "needs_background": "light"
     },
     "output_type": "display_data"
    },
    {
     "name": "stdout",
     "output_type": "stream",
     "text": [
      "The red line shows the actual b=5. The peak of Ln will always be at an x value less than b\n"
     ]
    }
   ],
   "source": [
    "n = 50\n",
    "Xn = np.random.uniform(0, 5, n)\n",
    "Xmax = max(Xn)\n",
    "x = np.linspace(4, 6, 100)\n",
    "Ln = np.array([0 if i < Xmax else 1/i**n for i in x])\n",
    "\n",
    "plt.title('Likelihood Function for b of a Uniform(0,5)', fontsize=16)\n",
    "plt.plot([5, 5], [0, 1], c='red', alpha=0.2)\n",
    "plt.plot(x, Ln)\n",
    "plt.ylim((0, max(Ln) + 1/20 * max(Ln)))\n",
    "plt.show()\n",
    "\n",
    "print('The red line shows the actual b=5. The peak of Ln will always be at an x value less than b')"
   ]
  }
 ],
 "metadata": {
  "kernelspec": {
   "display_name": "Python 3",
   "language": "python",
   "name": "python3"
  },
  "language_info": {
   "codemirror_mode": {
    "name": "ipython",
    "version": 3
   },
   "file_extension": ".py",
   "mimetype": "text/x-python",
   "name": "python",
   "nbconvert_exporter": "python",
   "pygments_lexer": "ipython3",
   "version": "3.7.0"
  }
 },
 "nbformat": 4,
 "nbformat_minor": 2
}
